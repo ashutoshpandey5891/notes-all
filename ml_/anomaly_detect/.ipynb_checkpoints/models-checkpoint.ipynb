{
 "cells": [
  {
   "cell_type": "markdown",
   "id": "e7a11f97-d1ca-4740-954a-1fb37ff53f6e",
   "metadata": {},
   "source": [
    "#### Isolation Forest"
   ]
  },
  {
   "cell_type": "markdown",
   "id": "f0222232-81f7-4c1c-bb22-fb4d741e257a",
   "metadata": {},
   "source": [
    "1) Works similar to random forest, ie made from decision trees.\n",
    "2) Unsupervised Method\n",
    "3) In an isolation forest randomly sub sampled data is processed in a tree structure based on random selected features, the samples that travel deeper into the tree are less likely to be anomalies, similarly samples on the shorter branches are more likely to be anomalies, sicne it is easier to seperate them.\n",
    "\n",
    "4) Let us look at the complete algorithm step by step:\n",
    "    1) When given a dataset, a random sub-sample of the data is selected and assigned to a binary tree.\n",
    "    2) Branching of the tree starts by selecting a random feature (from the set of all N features) first. And then branching is done on a random threshold ( any value in the range of minimum and maximum values of the selected feature).\n",
    "    3) If the value of a data point is less than the selected threshold, it goes to the left branch else to the right. And thus a node is split into left and right branches.\n",
    "    4) This process from step 2 is continued recursively till each data point is completely isolated or till max depth(if defined) is reached.\n",
    "    5) The above steps are repeated to construct random binary trees.\n",
    "\n",
    "\n",
    "5) After an ensemble of iTrees(Isolation Forest) is created, model training is complete. During scoring, a data point is traversed through all the trees which were trained earlier. Now, an ‘anomaly score’ is assigned to each of the data points based on the depth of the tree required to arrive at that point. This score is an aggregation of the depth obtained from each of the iTrees. An anomaly score of -1 is assigned to anomalies and 1 to normal points based on the contamination(percentage of anomalies present in the data) parameter provided.\n",
    "\n",
    "    - anomaly scores of <= 0.5 are considered normal observations,\n",
    "    - scores > 0.5 are considered anomalies\n"
   ]
  },
  {
   "cell_type": "code",
   "execution_count": null,
   "id": "3bad73ab-e475-452d-ae84-85a898802686",
   "metadata": {},
   "outputs": [],
   "source": [
    "from sklearn.ensemble import IsolationForest\n",
    "model = IsolationForest(n_estimators,max_samples,contamination,random_state) # contamination parameter specifies the percentage of observations we believe to be outliers\n",
    "model.fit(data)\n",
    "anomaly_scores = model.predict(data)"
   ]
  }
 ],
 "metadata": {
  "kernelspec": {
   "display_name": "Python 3 (ipykernel)",
   "language": "python",
   "name": "python3"
  },
  "language_info": {
   "codemirror_mode": {
    "name": "ipython",
    "version": 3
   },
   "file_extension": ".py",
   "mimetype": "text/x-python",
   "name": "python",
   "nbconvert_exporter": "python",
   "pygments_lexer": "ipython3",
   "version": "3.10.6"
  }
 },
 "nbformat": 4,
 "nbformat_minor": 5
}
